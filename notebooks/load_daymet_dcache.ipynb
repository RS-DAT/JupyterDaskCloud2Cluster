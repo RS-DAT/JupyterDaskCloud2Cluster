{
 "cells": [
  {
   "cell_type": "code",
   "execution_count": null,
   "id": "98f6a736-a2fb-41ee-bc98-f5b45d9a5252",
   "metadata": {},
   "outputs": [],
   "source": [
    "import dcachefs\n",
    "import fsspec\n",
    "import xarray as xr"
   ]
  },
  {
   "cell_type": "markdown",
   "id": "b229223c-e136-4dfd-8037-2bbcc4526209",
   "metadata": {},
   "source": [
    "# Load Daymet data from dCache"
   ]
  },
  {
   "cell_type": "code",
   "execution_count": null,
   "id": "f7cc134c-b6c6-4d0a-be91-7c1e6df83f3f",
   "metadata": {},
   "outputs": [],
   "source": [
    "# dCache path to 2020 daily max temperature for North America\n",
    "tmax_file_path = (\n",
    "    \"dcache://pnfs/grid.sara.nl/data/remotesensing/disk/daymet-daily-v4/region-na/na-2020/daymet_v4_daily_na_tmax_2020.nc\"\n",
    ")"
   ]
  },
  {
   "cell_type": "code",
   "execution_count": null,
   "id": "96a8ef79-ab89-4a38-9805-92671ce51b17",
   "metadata": {},
   "outputs": [],
   "source": [
    "# open file \n",
    "f = fsspec.open(tmax_file_path)\n",
    "ds = xr.open_dataset(\n",
    "    f.open(),\n",
    "    engine=\"h5netcdf\", \n",
    "    decode_coords=\"all\",\n",
    "    drop_variables=(\"lat\", \"lon\"),\n",
    "    chunks=\"auto\",\n",
    ")"
   ]
  },
  {
   "cell_type": "code",
   "execution_count": null,
   "id": "9b547eeb-5ca8-40af-a463-b3263cdb7b6e",
   "metadata": {},
   "outputs": [],
   "source": [
    "ds"
   ]
  },
  {
   "cell_type": "markdown",
   "id": "75df734f-03c9-41fb-b0cc-05dfb1736196",
   "metadata": {},
   "source": [
    "Drag and drop Dask cluster here:\n",
    "\n",
    "*- - -*"
   ]
  },
  {
   "cell_type": "code",
   "execution_count": null,
   "id": "4f9d1311-dcdb-4bdc-83b2-658d64290e1c",
   "metadata": {},
   "outputs": [],
   "source": [
    "# compute average tmax for the month of February\n",
    "tmax_feb_avg = ds[\"tmax\"].sel(time=\"2020-02\").mean(dim=\"time\")\n",
    "tmax_feb_avg"
   ]
  },
  {
   "cell_type": "code",
   "execution_count": null,
   "id": "37640e0c-9c72-4173-b87d-8fa0354c6afa",
   "metadata": {},
   "outputs": [],
   "source": [
    "# run & plot\n",
    "tmax_feb_avg.plot.imshow()"
   ]
  },
  {
   "cell_type": "code",
   "execution_count": null,
   "id": "b75423a0-8618-47d5-a9ee-c3b2b9199406",
   "metadata": {},
   "outputs": [],
   "source": []
  }
 ],
 "metadata": {
  "kernelspec": {
   "display_name": "Python 3 (ipykernel)",
   "language": "python",
   "name": "python3"
  },
  "language_info": {
   "codemirror_mode": {
    "name": "ipython",
    "version": 3
   },
   "file_extension": ".py",
   "mimetype": "text/x-python",
   "name": "python",
   "nbconvert_exporter": "python",
   "pygments_lexer": "ipython3",
   "version": "3.11.8"
  }
 },
 "nbformat": 4,
 "nbformat_minor": 5
}
